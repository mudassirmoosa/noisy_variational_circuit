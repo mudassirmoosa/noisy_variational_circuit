{
 "cells": [
  {
   "cell_type": "code",
   "execution_count": null,
   "metadata": {},
   "outputs": [],
   "source": [
    "# Please read \"report.pdf\" or \"report.html\" for all the details."
   ]
  },
  {
   "cell_type": "code",
   "execution_count": 15,
   "metadata": {},
   "outputs": [],
   "source": [
    "import cirq\n",
    "import numpy as np\n",
    "\n",
    "# Defining two qubits and the circuit\n",
    "q0 , q1 = cirq.LineQubit.range(2)\n",
    "circuit = cirq.Circuit( )"
   ]
  },
  {
   "cell_type": "code",
   "execution_count": 2,
   "metadata": {},
   "outputs": [],
   "source": [
    "def noisy_variational_circuit(theta_x,theta_y,noise_type,noise_probability): \n",
    "    \n",
    "    circuit = cirq.Circuit()\n",
    "    q0,q1 = cirq.LineQubit.range(2)\n",
    "           \n",
    "    # First moment of the circuit:\n",
    "    # We apply rotations by amount theta_x and theta_y \n",
    "    circuit.append(cirq.ry(theta_y).on(q0))\n",
    "    circuit.append(cirq.rx(theta_x).on(q1))\n",
    "    \n",
    "    # Now we add the noise on qubit 0:\n",
    "    if noise_probability[0]:     \n",
    "        if noise_type[0] == 'bit_flip':\n",
    "            circuit.append(cirq.bit_flip(noise_probability[0]).on(q0))\n",
    "        elif noise_type[0] == 'phase_flip':\n",
    "            circuit.append(cirq.phase_flip(noise_probability[0]).on(q0))\n",
    "        # Note: This can be easily modified to \n",
    "        # include other types of noise.\n",
    "    \n",
    "    # Now we add the noise on qubit 1:\n",
    "    if noise_probability[1]:\n",
    "        if noise_type[1] == 'bit_flip':\n",
    "            circuit.append(cirq.bit_flip(noise_probability[1]).on(q1))\n",
    "        elif noise_type[1] == 'phase_flip':\n",
    "            circuit.append(cirq.phase_flip(noise_probability[1]).on(q1))\n",
    "        \n",
    "          \n",
    "    # Second moment of the circuit:\n",
    "    # We apply the CNOT gate.\n",
    "    circuit.append(cirq.CNOT(q0,q1))\n",
    "               \n",
    "    return circuit "
   ]
  },
  {
   "cell_type": "code",
   "execution_count": 3,
   "metadata": {},
   "outputs": [],
   "source": [
    "def cost_function(theta_x,theta_y,no_of_measurements,noise_type,noise_probability):\n",
    "    \n",
    "    #We first make the noisy variational circuit.\n",
    "    circuit = noisy_variational_circuit(theta_x,theta_y,noise_type,noise_probability)\n",
    "    #Then we add the CNOT gate: \n",
    "    circuit.append(cirq.CNOT(q0,q1))\n",
    "    #Add then the rotation gate on the first qubit\n",
    "    circuit.append(cirq.ry(np.pi/2).on(q0))\n",
    "        \n",
    "    #We then add the measurement\n",
    "    circuit.append(cirq.measure(q0, q1, key='result'))\n",
    "    \n",
    "    \n",
    "    s = cirq.DensityMatrixSimulator()\n",
    "    # We make measurements. The number of measurements is no_of_measurements\n",
    "    samples = s.run(circuit,repetitions=no_of_measurements)\n",
    "    probability_of_11 = (samples.histogram(key='result')[3])/no_of_measurements\n",
    "    \n",
    "    cost = -1.0*probability_of_11\n",
    "    \n",
    "    return cost"
   ]
  },
  {
   "cell_type": "code",
   "execution_count": 4,
   "metadata": {},
   "outputs": [],
   "source": [
    "def finding_gradients(theta_x,theta_y,no_of_measurements,noise_type,noise_probability):\n",
    "    \n",
    "    t = 0.5*np.pi # A convenient choice for the constant shift parameter\n",
    "    \n",
    "    # Gradient w.r.t theta_x\n",
    "    # Calculating C(theta_x + t)\n",
    "    cost_plus = cost_function(theta_x+t,theta_y,no_of_measurements,noise_type,noise_probability)\n",
    "    # Calculating C(theta_x - t)\n",
    "    cost_minus = cost_function(theta_x-t,theta_y,no_of_measurements,noise_type,noise_probability)    \n",
    "    # Using parameter-shift rule\n",
    "    x_gradient = (cost_plus-cost_minus)/(2)\n",
    "    \n",
    "    # Gradient w.r.t theta_y\n",
    "    # Calculating C(theta_y + t)\n",
    "    cost_plus = cost_function(theta_x,theta_y+t,no_of_measurements,noise_type,noise_probability)\n",
    "    # Calculating C(theta_y - t)\n",
    "    cost_minus = cost_function(theta_x,theta_y-t,no_of_measurements,noise_type,noise_probability)        \n",
    "    # Using parameter-shift rule\n",
    "    y_gradient = (cost_plus-cost_minus)/(2)\n",
    "     \n",
    "    return x_gradient , y_gradient"
   ]
  },
  {
   "cell_type": "code",
   "execution_count": 5,
   "metadata": {},
   "outputs": [],
   "source": [
    "def new_parameters(theta_x,theta_y,learning_rate,no_of_measurements,noise_type,noise_probability):\n",
    "    \n",
    "    # Find gradients of the cost functions\n",
    "    gradients = finding_gradients(theta_x,theta_y,no_of_measurements,noise_type,noise_probability)\n",
    "    \n",
    "    # Update variational parameters\n",
    "    theta_x = theta_x - learning_rate*gradients[0]\n",
    "    theta_y = theta_y - learning_rate*gradients[1]\n",
    "    \n",
    "    return theta_x, theta_y"
   ]
  },
  {
   "cell_type": "code",
   "execution_count": 6,
   "metadata": {},
   "outputs": [],
   "source": [
    "import random\n",
    "\n",
    "def gradient_descent(no_of_iterations,no_of_measurements,noise_type,noise_probability):\n",
    "    \n",
    "    # choosing random initial values \n",
    "    # for the variational parameters.\n",
    "    theta_x = (random.random())*np.pi\n",
    "    theta_y = (random.random())*np.pi\n",
    "    \n",
    "    \n",
    "    learning_rate = 0.2 # Just a convenient choice because it seemed to work. \n",
    "    \n",
    "    # performing the iterative modification of parameters.        \n",
    "    for i in range(no_of_iterations):\n",
    "        new_angles = new_parameters(theta_x,theta_y,learning_rate,no_of_measurements,noise_type,noise_probability)\n",
    "        theta_x = new_angles[0]\n",
    "        theta_y = new_angles[1]\n",
    "        \n",
    "    return theta_x,theta_y"
   ]
  },
  {
   "cell_type": "code",
   "execution_count": 7,
   "metadata": {},
   "outputs": [],
   "source": [
    "def main_circuit(no_of_iterations,no_of_measurements,noise_type,noise_probability):\n",
    "    \n",
    "    # Find optimum parameters using \n",
    "    # gradient descent\n",
    "    parameters = gradient_descent(no_of_iterations,no_of_measurements,noise_type,noise_probability)\n",
    "    \n",
    "    return noisy_variational_circuit(parameters[0],parameters[1],noise_type,noise_probability)"
   ]
  },
  {
   "cell_type": "code",
   "execution_count": null,
   "metadata": {},
   "outputs": [],
   "source": []
  }
 ],
 "metadata": {
  "kernelspec": {
   "display_name": "Python 3",
   "language": "python",
   "name": "python3"
  },
  "language_info": {
   "codemirror_mode": {
    "name": "ipython",
    "version": 3
   },
   "file_extension": ".py",
   "mimetype": "text/x-python",
   "name": "python",
   "nbconvert_exporter": "python",
   "pygments_lexer": "ipython3",
   "version": "3.8.3"
  }
 },
 "nbformat": 4,
 "nbformat_minor": 4
}
